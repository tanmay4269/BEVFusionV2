{
 "cells": [
  {
   "cell_type": "code",
   "execution_count": 19,
   "metadata": {},
   "outputs": [],
   "source": [
    "import numpy as np\n",
    "import torch \n",
    "\n",
    "ckpt = torch.load('../ckpts/r101_dcn_fcos3d_pretrain.pth')"
   ]
  },
  {
   "cell_type": "code",
   "execution_count": 16,
   "metadata": {},
   "outputs": [
    {
     "name": "stdout",
     "output_type": "stream",
     "text": [
      "dict_keys(['meta', 'state_dict'])\n"
     ]
    }
   ],
   "source": [
    "print(ckpt.keys())"
   ]
  },
  {
   "cell_type": "code",
   "execution_count": 23,
   "metadata": {},
   "outputs": [
    {
     "name": "stdout",
     "output_type": "stream",
     "text": [
      "bbox_head: 103\n",
      "img_backbone: 676\n",
      "img_neck: 16\n"
     ]
    }
   ],
   "source": [
    "named_params = []\n",
    "\n",
    "for k in ckpt['state_dict']:\n",
    "  named_params.append(k)\n",
    "\n",
    "sub_category_counts = {}\n",
    "for item in named_params:\n",
    "  sub_category = item.split(\".\")[0]\n",
    "  if sub_category not in sub_category_counts:\n",
    "    sub_category_counts[sub_category] = 0\n",
    "  sub_category_counts[sub_category] += 1\n",
    "\n",
    "# Print the counts for each sub-category\n",
    "for sub_category, count in sub_category_counts.items():\n",
    "  print(f\"{sub_category}: {count}\")"
   ]
  },
  {
   "cell_type": "code",
   "execution_count": 21,
   "metadata": {},
   "outputs": [
    {
     "name": "stdout",
     "output_type": "stream",
     "text": [
      "mmdet_version\n",
      "config\n",
      "CLASSES\n",
      "epoch\n",
      "iter\n",
      "env_info\n",
      "seed\n",
      "exp_name\n",
      "mmcv_version\n",
      "time\n",
      "hook_msgs\n"
     ]
    }
   ],
   "source": [
    "for k in ckpt['meta']:\n",
    "  print(k)"
   ]
  },
  {
   "cell_type": "code",
   "execution_count": 4,
   "metadata": {},
   "outputs": [],
   "source": [
    "def num_param(state_dict):\n",
    "    total_params = 0\n",
    "    for param_name, param in state_dict.items():\n",
    "        total_params += param.numel()  \n",
    "    return total_params"
   ]
  },
  {
   "cell_type": "code",
   "execution_count": 22,
   "metadata": {},
   "outputs": [
    {
     "data": {
      "text/plain": [
       "56239194"
      ]
     },
     "execution_count": 22,
     "metadata": {},
     "output_type": "execute_result"
    }
   ],
   "source": [
    "num_param(ckpt['state_dict'])"
   ]
  }
 ],
 "metadata": {
  "kernelspec": {
   "display_name": "base",
   "language": "python",
   "name": "python3"
  },
  "language_info": {
   "codemirror_mode": {
    "name": "ipython",
    "version": 3
   },
   "file_extension": ".py",
   "mimetype": "text/x-python",
   "name": "python",
   "nbconvert_exporter": "python",
   "pygments_lexer": "ipython3",
   "version": "3.7.11"
  }
 },
 "nbformat": 4,
 "nbformat_minor": 2
}
